{
 "cells": [
  {
   "cell_type": "markdown",
   "metadata": {},
   "source": [
    "# PhyloPandas Tutorial"
   ]
  },
  {
   "cell_type": "markdown",
   "metadata": {},
   "source": [
    "## Read in sequence and alignment data"
   ]
  },
  {
   "cell_type": "code",
   "execution_count": 1,
   "metadata": {},
   "outputs": [],
   "source": [
    "import phylopandas as pd\n",
    "import dendropy\n",
    "\n",
    "# Read in a newick tree format\n",
    "df = pd.read_newick('PF08793_seed.newick')\n",
    "\n",
    "\n",
    "# Show the tree data in a notebook\n",
    "df = df.phylo.read_fasta('PF08793_seed.fasta', combine_on='id')"
   ]
  },
  {
   "cell_type": "code",
   "execution_count": 2,
   "metadata": {},
   "outputs": [],
   "source": [
    "t = dendropy.TaxonNamespace()"
   ]
  },
  {
   "cell_type": "code",
   "execution_count": 8,
   "metadata": {},
   "outputs": [
    {
     "data": {
      "text/plain": [
       "\u001b[0;31mSignature:\u001b[0m \u001b[0mt\u001b[0m\u001b[0;34m.\u001b[0m\u001b[0madd_taxon\u001b[0m\u001b[0;34m(\u001b[0m\u001b[0mtaxon\u001b[0m\u001b[0;34m)\u001b[0m\u001b[0;34m\u001b[0m\u001b[0m\n",
       "\u001b[0;31mDocstring:\u001b[0m\n",
       "Adds a new |Taxon| object to ``self``.\n",
       "\n",
       "If ``taxon`` is not already in the collection of |Taxon| objects in this\n",
       "namespace, and this namespace is mutable, it is added to the\n",
       "collection. If it is already in the collection, then nothing happens.\n",
       "If it is not already in the collection, but the namespace is not\n",
       "mutable, then TypeError is raised.\n",
       "\n",
       "Parameters\n",
       "----------\n",
       "taxon : |Taxon|\n",
       "    The |Taxon| object to be accessioned or registered in this\n",
       "    collection.\n",
       "\n",
       "Raises\n",
       "------\n",
       "TypeError\n",
       "    If this namespace is immutable (i.e.\n",
       "    :attr:`TaxonNamespace.is_mutable` is |False|).\n",
       "\u001b[0;31mFile:\u001b[0m      ~/miniconda3/envs/omnipotent/lib/python3.6/site-packages/dendropy/datamodel/taxonmodel.py\n",
       "\u001b[0;31mType:\u001b[0m      method\n"
      ]
     },
     "metadata": {},
     "output_type": "display_data"
    }
   ],
   "source": [
    "t.add_taxon?\n"
   ]
  },
  {
   "cell_type": "code",
   "execution_count": 2,
   "metadata": {},
   "outputs": [],
   "source": [
    "t = pd.treeio.write._write(df)"
   ]
  },
  {
   "cell_type": "code",
   "execution_count": 3,
   "metadata": {},
   "outputs": [
    {
     "name": "stdout",
     "output_type": "stream",
     "text": [
      "                                                             /------ YCuEYsCZuD\n",
      "                              /------------------------------+                 \n",
      "                              |                              \\------ BdNraLCnAs\n",
      "                              |                                                \n",
      "                              |                              /------ FGwGPxSlfZ\n",
      "                              |                        /-----+                 \n",
      "                              |                        |     \\------ tqfa0BNQli\n",
      "                        /-----+                  /-----+                       \n",
      "                        |     |                  |     |     /------ o4Lv7kbCBL\n",
      "                        |     |            /-----+     \\-----+                 \n",
      "                        |     |            |     |           \\------ sl6FL2DR1X\n",
      "                        |     |      /-----+     |                             \n",
      "                        |     |      |     |     \\------------------ Yq1SUZU7Xf\n",
      "                        |     |      |     |                                   \n",
      "                        |     \\------+     \\------------------------ Dx8ch5M3oF\n",
      "                  /-----+            |                                         \n",
      "                  |     |            |           /------------------ jHORBeV93k\n",
      "                  |     |            \\-----------+                             \n",
      "                  |     |                        |     /------------ A3nLcbwFUM\n",
      "                  |     |                        \\-----+                       \n",
      "            /-----+     |                              |     /------ T5sw3ZLpN3\n",
      "            |     |     |                              \\-----+                 \n",
      "            |     |     |                                    \\------ kzLAPVaPM1\n",
      "            |     |     |                                                      \n",
      "      /-----+     |     \\------------------------------------------- iADJlEyX56\n",
      "      |     |     |                                                            \n",
      "      |     |     \\------------------------------------------------- You2nRI6Wk\n",
      "/-----+     |                                                                  \n",
      "|     |     \\------------------------------------------------------- jsDzSaLMn7\n",
      "|     |                                                                        \n",
      "+     \\------------------------------------------------------------- WLUj71GJy9\n",
      "|                                                                              \n",
      "|------------------------------------------------------------------- 5LzakdVHWy\n",
      "|                                                                              \n",
      "\\------------------------------------------------------------------- 0pA9xSpP3j\n",
      "                                                                               \n",
      "                                                                               \n"
     ]
    }
   ],
   "source": [
    "t.print_plot()"
   ]
  },
  {
   "cell_type": "code",
   "execution_count": null,
   "metadata": {},
   "outputs": [],
   "source": []
  },
  {
   "cell_type": "code",
   "execution_count": 22,
   "metadata": {},
   "outputs": [
    {
     "data": {
      "text/html": [
       "<div>\n",
       "<style scoped>\n",
       "    .dataframe tbody tr th:only-of-type {\n",
       "        vertical-align: middle;\n",
       "    }\n",
       "\n",
       "    .dataframe tbody tr th {\n",
       "        vertical-align: top;\n",
       "    }\n",
       "\n",
       "    .dataframe thead th {\n",
       "        text-align: right;\n",
       "    }\n",
       "</style>\n",
       "<table border=\"1\" class=\"dataframe\">\n",
       "  <thead>\n",
       "    <tr style=\"text-align: right;\">\n",
       "      <th></th>\n",
       "      <th>distance</th>\n",
       "      <th>id</th>\n",
       "      <th>label</th>\n",
       "      <th>length</th>\n",
       "      <th>parent</th>\n",
       "      <th>type</th>\n",
       "      <th>description</th>\n",
       "      <th>sequence</th>\n",
       "    </tr>\n",
       "  </thead>\n",
       "  <tbody>\n",
       "    <tr>\n",
       "      <th>TG320wicc3</th>\n",
       "      <td>0.919775</td>\n",
       "      <td>3</td>\n",
       "      <td>3</td>\n",
       "      <td>0.271689</td>\n",
       "      <td>2</td>\n",
       "      <td>node</td>\n",
       "      <td>NaN</td>\n",
       "      <td>NaN</td>\n",
       "    </tr>\n",
       "    <tr>\n",
       "      <th>8EWDET2GTs</th>\n",
       "      <td>1.59117</td>\n",
       "      <td>Q0E553_SFAVA/142-176</td>\n",
       "      <td>Q0E553_SFAVA/142-176</td>\n",
       "      <td>0.943087</td>\n",
       "      <td>2</td>\n",
       "      <td>leaf</td>\n",
       "      <td>Q0E553_SFAVA/142-176</td>\n",
       "      <td>YCTNFHR----DE-SRNPLTGKKLVPTSPIRKAWHKMCSG</td>\n",
       "    </tr>\n",
       "  </tbody>\n",
       "</table>\n",
       "</div>"
      ],
      "text/plain": [
       "            distance                    id                 label    length  \\\n",
       "TG320wicc3  0.919775                     3                     3  0.271689   \n",
       "8EWDET2GTs   1.59117  Q0E553_SFAVA/142-176  Q0E553_SFAVA/142-176  0.943087   \n",
       "\n",
       "           parent  type           description  \\\n",
       "TG320wicc3      2  node                   NaN   \n",
       "8EWDET2GTs      2  leaf  Q0E553_SFAVA/142-176   \n",
       "\n",
       "                                            sequence  \n",
       "TG320wicc3                                       NaN  \n",
       "8EWDET2GTs  YCTNFHR----DE-SRNPLTGKKLVPTSPIRKAWHKMCSG  "
      ]
     },
     "execution_count": 22,
     "metadata": {},
     "output_type": "execute_result"
    }
   ],
   "source": [
    "df[df['parent'] == '2']"
   ]
  },
  {
   "cell_type": "code",
   "execution_count": 8,
   "metadata": {},
   "outputs": [
    {
     "data": {
      "text/plain": [
       "distance          0\n",
       "id                0\n",
       "label             0\n",
       "length            0\n",
       "parent         None\n",
       "type           root\n",
       "description     NaN\n",
       "sequence        NaN\n",
       "Name: 6aGFvY9QLQ, dtype: object"
      ]
     },
     "execution_count": 8,
     "metadata": {},
     "output_type": "execute_result"
    }
   ],
   "source": [
    "df.loc['6aGFvY9QLQ']\n",
    "a"
   ]
  },
  {
   "cell_type": "code",
   "execution_count": 4,
   "metadata": {},
   "outputs": [],
   "source": [
    "import dendropy"
   ]
  },
  {
   "cell_type": "code",
   "execution_count": 3,
   "metadata": {},
   "outputs": [
    {
     "name": "stdout",
     "output_type": "stream",
     "text": [
      "Object `dendropy.Tree` not found.\n"
     ]
    }
   ],
   "source": [
    "dendropy.Tree?df"
   ]
  },
  {
   "cell_type": "code",
   "execution_count": 24,
   "metadata": {},
   "outputs": [
    {
     "data": {
      "text/plain": [
       "\u001b[0;31mSignature:\u001b[0m \u001b[0mdendropy\u001b[0m\u001b[0;34m.\u001b[0m\u001b[0mNode\u001b[0m\u001b[0;34m.\u001b[0m\u001b[0mset_child_nodes\u001b[0m\u001b[0;34m(\u001b[0m\u001b[0mself\u001b[0m\u001b[0;34m,\u001b[0m \u001b[0mchild_nodes\u001b[0m\u001b[0;34m)\u001b[0m\u001b[0;34m\u001b[0m\u001b[0m\n",
       "\u001b[0;31mDocstring:\u001b[0m\n",
       "Assigns the set of child nodes for this node.\n",
       "\n",
       "Results in the ``parent_node`` attribute of each |Node| in ``nodes``\n",
       "as well as the ``tail_node`` attribute of corresponding |Edge|\n",
       "objects being assigned to ``self``.\n",
       "\n",
       "Parameters\n",
       "----------\n",
       "child_nodes : collections.Iterable[|Node|]\n",
       "    The (iterable) collection of child nodes to be assigned this node\n",
       "    as a parent.\n",
       "\u001b[0;31mFile:\u001b[0m      ~/miniconda3/envs/omnipotent/lib/python3.6/site-packages/dendropy/datamodel/treemodel.py\n",
       "\u001b[0;31mType:\u001b[0m      function\n"
      ]
     },
     "metadata": {},
     "output_type": "display_data"
    }
   ],
   "source": [
    "n = dendropy.Node.set_child_nodes?"
   ]
  },
  {
   "cell_type": "code",
   "execution_count": 7,
   "metadata": {},
   "outputs": [
    {
     "data": {
      "text/plain": [
       "\u001b[0;31mInit signature:\u001b[0m \u001b[0mdendropy\u001b[0m\u001b[0;34m.\u001b[0m\u001b[0mNode\u001b[0m\u001b[0;34m(\u001b[0m\u001b[0;34m**\u001b[0m\u001b[0mkwargs\u001b[0m\u001b[0;34m)\u001b[0m\u001b[0;34m\u001b[0m\u001b[0m\n",
       "\u001b[0;31mDocstring:\u001b[0m      A :term:|Node| on a :term:|Tree|.\n",
       "\u001b[0;31mInit docstring:\u001b[0m\n",
       "Keyword Arguments\n",
       "-----------------\n",
       "taxon : |Taxon|, optional\n",
       "    The |Taxon| instance representing the operational taxonomic\n",
       "    unit concept associated with this Node.\n",
       "label : string, optional\n",
       "    A label for this node.\n",
       "edge_length : numeric, optional\n",
       "    Length or weight of the edge subtending this node.\n",
       "\u001b[0;31mFile:\u001b[0m           ~/miniconda3/envs/omnipotent/lib/python3.6/site-packages/dendropy/datamodel/treemodel.py\n",
       "\u001b[0;31mType:\u001b[0m           type\n"
      ]
     },
     "metadata": {},
     "output_type": "display_data"
    }
   ],
   "source": [
    "n = dendropy.Node?"
   ]
  },
  {
   "cell_type": "code",
   "execution_count": 10,
   "metadata": {},
   "outputs": [
    {
     "data": {
      "text/plain": [
       "\u001b[0;31mInit signature:\u001b[0m \u001b[0mdendropy\u001b[0m\u001b[0;34m.\u001b[0m\u001b[0mTree\u001b[0m\u001b[0;34m(\u001b[0m\u001b[0;34m*\u001b[0m\u001b[0margs\u001b[0m\u001b[0;34m,\u001b[0m \u001b[0;34m**\u001b[0m\u001b[0mkwargs\u001b[0m\u001b[0;34m)\u001b[0m\u001b[0;34m\u001b[0m\u001b[0m\n",
       "\u001b[0;31mDocstring:\u001b[0m     \n",
       "An arborescence, i.e. a fully-connected directed acyclic graph with all\n",
       "edges directing away from the root and toward the tips. The \"root\" of the\n",
       "tree is represented by the :attr:`Tree.seed_node` attribute.  In unrooted\n",
       "trees, this node is an algorithmic artifact. In rooted trees this node is\n",
       "semantically equivalent to the root.\n",
       "\u001b[0;31mInit docstring:\u001b[0m\n",
       "The constructor can optionally construct a |Tree| object by\n",
       "cloning another |Tree| object passed as the first positional\n",
       "argument, or out of a data source if ``stream`` and ``schema`` keyword\n",
       "arguments are passed with a file-like object and a schema-specification\n",
       "string object values respectively.\n",
       "\n",
       "Parameters\n",
       "----------\n",
       "\n",
       "\\*args : positional argument, optional\n",
       "    If given, should be exactly one |Tree| object. The new\n",
       "    |Tree| will then be a structural clone of this argument.\n",
       "\n",
       "\\*\\*kwargs : keyword arguments, optional\n",
       "    The following optional keyword arguments are recognized\n",
       "    and handled by this constructor:\n",
       "\n",
       "        ``label``\n",
       "            The label or description of the new |Tree| object.\n",
       "        ``taxon_namespace``\n",
       "            Specifies the |TaxonNamespace| object to be\n",
       "            that the new |Tree| object will reference.\n",
       "Examples\n",
       "--------\n",
       "\n",
       "Tree objects can be instantiated in the following ways::\n",
       "\n",
       "    # /usr/bin/env python\n",
       "\n",
       "    try:\n",
       "        from StringIO import StringIO\n",
       "    except ImportError:\n",
       "        from io import StringIO\n",
       "    from dendropy import Tree, TaxonNamespace\n",
       "\n",
       "    # empty tree\n",
       "    t1 = Tree()\n",
       "\n",
       "    # Tree objects can be instantiated from an external data source\n",
       "    # using the 'get()' factory class method\n",
       "\n",
       "    # From a file-like object\n",
       "    t2 = Tree.get(file=open('treefile.tre', 'r'),\n",
       "                    schema=\"newick\",\n",
       "                    tree_offset=0)\n",
       "\n",
       "    # From a path\n",
       "    t3 = Tree.get(path='sometrees.nexus',\n",
       "            schema=\"nexus\",\n",
       "            collection_offset=2,\n",
       "            tree_offset=1)\n",
       "\n",
       "    # From a string\n",
       "    s = \"((A,B),(C,D));((A,C),(B,D));\"\n",
       "    # tree will be '((A,B),(C,D))'\n",
       "    t4 = Tree.get(data=s,\n",
       "            schema=\"newick\")\n",
       "    # tree will be '((A,C),(B,D))'\n",
       "    t5 = Tree.get(data=s,\n",
       "            schema=\"newick\",\n",
       "            tree_offset=1)\n",
       "    # passing keywords to underlying tree parser\n",
       "    t7 = dendropy.Tree.get(\n",
       "            data=\"((A,B),(C,D));\",\n",
       "            schema=\"newick\",\n",
       "            taxon_namespace=t3.taxon_namespace,\n",
       "            suppress_internal_node_taxa=False,\n",
       "            preserve_underscores=True)\n",
       "\n",
       "    # Tree objects can be written out using the 'write()' method.\n",
       "    t1.write(file=open('treefile.tre', 'r'),\n",
       "            schema=\"newick\")\n",
       "    t1.write(path='treefile.nex',\n",
       "            schema=\"nexus\")\n",
       "\n",
       "    # Or returned as a string using the 'as_string()' method.\n",
       "    s = t1.as_string(\"nexml\")\n",
       "\n",
       "    # tree structure deep-copied from another tree\n",
       "    t8 = dendropy.Tree(t7)\n",
       "    assert t8 is not t7                             # Trees are distinct\n",
       "    assert t8.symmetric_difference(t7) == 0         # and structure is identical\n",
       "    assert t8.taxon_namespace is t7.taxon_namespace             # BUT taxa are not cloned.\n",
       "    nds3 = [nd for nd in t7.postorder_node_iter()]  # Nodes in the two trees\n",
       "    nds4 = [nd for nd in t8.postorder_node_iter()]  # are distinct objects,\n",
       "    for i, n in enumerate(nds3):                    # and can be manipulated\n",
       "        assert nds3[i] is not nds4[i]               # independentally.\n",
       "    egs3 = [eg for eg in t7.postorder_edge_iter()]  # Edges in the two trees\n",
       "    egs4 = [eg for eg in t8.postorder_edge_iter()]  # are also distinct objects,\n",
       "    for i, e in enumerate(egs3):                    # and can also be manipulated\n",
       "        assert egs3[i] is not egs4[i]               # independentally.\n",
       "    lves7 = t7.leaf_nodes()                         # Leaf nodes in the two trees\n",
       "    lves8 = t8.leaf_nodes()                         # are also distinct objects,\n",
       "    for i, lf in enumerate(lves3):                  # but order is the same,\n",
       "        assert lves7[i] is not lves8[i]             # and associated Taxon objects\n",
       "        assert lves7[i].taxon is lves8[i].taxon     # are the same.\n",
       "\n",
       "    # To create deep copy of a tree with a different taxon namespace,\n",
       "    # Use 'copy.deepcopy()'\n",
       "    t9 = copy.deepcopy(t7)\n",
       "\n",
       "    # Or explicitly pass in a new TaxonNamespace instance\n",
       "    taxa = TaxonNamespace()\n",
       "    t9 = dendropy.Tree(t7, taxon_namespace=taxa)\n",
       "    assert t9 is not t7                             # As above, the trees are distinct\n",
       "    assert t9.symmetric_difference(t7) == 0         # and the structures are identical,\n",
       "    assert t9.taxon_namespace is not t7.taxon_namespace         # but this time, the taxa *are* different\n",
       "    assert t9.taxon_namespace is taxa                     # as the given TaxonNamespace is used instead.\n",
       "    lves3 = t7.leaf_nodes()                         # Leaf nodes (and, for that matter other nodes\n",
       "    lves5 = t9.leaf_nodes()                         # as well as edges) are also distinct objects\n",
       "    for i, lf in enumerate(lves3):                  # and the order is the same, as above,\n",
       "        assert lves7[i] is not lves9[i]             # but this time the associated Taxon\n",
       "        assert lves7[i].taxon is not lves9[i].taxon # objects are distinct though the taxon\n",
       "        assert lves7[i].taxon.label == lves9[i].taxon.label # labels are the same.\n",
       "\n",
       "    # to 'switch out' the TaxonNamespace of a tree, replace the reference and\n",
       "    # reindex the taxa:\n",
       "    t11 = Tree.get(data='((A,B),(C,D));', 'newick')\n",
       "    taxa = TaxonNamespace()\n",
       "    t11.taxon_namespace = taxa\n",
       "    t11.reindex_subcomponent_taxa()\n",
       "\n",
       "    # You can also explicitly pass in a seed node:\n",
       "    seed = Node(label=\"root\")\n",
       "    t12 = Tree(seed_node=seed)\n",
       "    assert t12.seed_node is seed\n",
       "\u001b[0;31mFile:\u001b[0m           ~/miniconda3/envs/omnipotent/lib/python3.6/site-packages/dendropy/datamodel/treemodel.py\n",
       "\u001b[0;31mType:\u001b[0m           type\n"
      ]
     },
     "metadata": {},
     "output_type": "display_data"
    }
   ],
   "source": [
    "dendropy.Tree?"
   ]
  },
  {
   "cell_type": "code",
   "execution_count": 8,
   "metadata": {},
   "outputs": [
    {
     "data": {
      "text/plain": [
       "\u001b[0;31mInit signature:\u001b[0m \u001b[0mdendropy\u001b[0m\u001b[0;34m.\u001b[0m\u001b[0mTaxon\u001b[0m\u001b[0;34m(\u001b[0m\u001b[0mlabel\u001b[0m\u001b[0;34m=\u001b[0m\u001b[0;32mNone\u001b[0m\u001b[0;34m)\u001b[0m\u001b[0;34m\u001b[0m\u001b[0m\n",
       "\u001b[0;31mDocstring:\u001b[0m      A taxon associated with a sequence or a node on a tree.\n",
       "\u001b[0;31mInit docstring:\u001b[0m\n",
       "Parameters\n",
       "----------\n",
       "label : string or |Taxon| object\n",
       "    Label or name of this operational taxonomic unit concept. If a\n",
       "    string, then the ``label`` attribute of ``self`` is set to this value.\n",
       "    If a |Taxon| object, then the ``label`` attribute of ``self`` is\n",
       "    set to the same value as the ``label`` attribute the other\n",
       "    |Taxon| object and all annotations/metadata are copied.\n",
       "\u001b[0;31mFile:\u001b[0m           ~/miniconda3/envs/omnipotent/lib/python3.6/site-packages/dendropy/datamodel/taxonmodel.py\n",
       "\u001b[0;31mType:\u001b[0m           type\n"
      ]
     },
     "metadata": {},
     "output_type": "display_data"
    }
   ],
   "source": [
    "dendropy.Taxon?"
   ]
  },
  {
   "cell_type": "code",
   "execution_count": null,
   "metadata": {},
   "outputs": [],
   "source": [
    "import phylopandas as pd\n",
    "from IPython.display import display\n",
    "\n",
    "# Read fasta file as DataFrame\n",
    "df = pd.read_fasta('PF08793_seed.fasta')\n",
    "display(df)\n",
    "\n",
    "df = df.phylo.read_fasta('PF08793_seed.fasta', on='id')\n",
    "display(df)"
   ]
  },
  {
   "cell_type": "code",
   "execution_count": 2,
   "metadata": {},
   "outputs": [
    {
     "data": {
      "text/html": [
       "<div>\n",
       "<style scoped>\n",
       "    .dataframe tbody tr th:only-of-type {\n",
       "        vertical-align: middle;\n",
       "    }\n",
       "\n",
       "    .dataframe tbody tr th {\n",
       "        vertical-align: top;\n",
       "    }\n",
       "\n",
       "    .dataframe thead th {\n",
       "        text-align: right;\n",
       "    }\n",
       "</style>\n",
       "<table border=\"1\" class=\"dataframe\">\n",
       "  <thead>\n",
       "    <tr style=\"text-align: right;\">\n",
       "      <th></th>\n",
       "      <th>description</th>\n",
       "      <th>id</th>\n",
       "      <th>label</th>\n",
       "      <th>sequence</th>\n",
       "    </tr>\n",
       "  </thead>\n",
       "  <tbody>\n",
       "    <tr>\n",
       "      <th>3WFZUpDPaM</th>\n",
       "      <td>seq-0 Q0E553_SFAVA/184-218</td>\n",
       "      <td>seq-0</td>\n",
       "      <td>seq-0</td>\n",
       "      <td>KCIAFDK----ND-KINPFTGRPINENNDTYRMIYSMCHG</td>\n",
       "    </tr>\n",
       "    <tr>\n",
       "      <th>GvjE6xhJYL</th>\n",
       "      <td>seq-1 Q8QUQ5_ISKNN/123-157</td>\n",
       "      <td>seq-1</td>\n",
       "      <td>seq-1</td>\n",
       "      <td>ACALYYD----DP-TVNPFTDEPLRRYSPIDDLLYRNCES</td>\n",
       "    </tr>\n",
       "    <tr>\n",
       "      <th>GLxde4wm1g</th>\n",
       "      <td>seq-2 Q0E553_SFAVA/142-176</td>\n",
       "      <td>seq-2</td>\n",
       "      <td>seq-2</td>\n",
       "      <td>YCTNFHR----DE-SRNPLTGKKLVPTSPIRKAWHKMCSG</td>\n",
       "    </tr>\n",
       "    <tr>\n",
       "      <th>AOJeKQ9pqv</th>\n",
       "      <td>seq-3 Q8QUQ5_ISKNN/45-79</td>\n",
       "      <td>seq-3</td>\n",
       "      <td>seq-3</td>\n",
       "      <td>LCAEYKR----SP-RYNPWTDRTLAPGSPKHNLISGMCGG</td>\n",
       "    </tr>\n",
       "    <tr>\n",
       "      <th>oXwsjIh0Me</th>\n",
       "      <td>seq-4 Q8QUQ6_ISKNN/37-75</td>\n",
       "      <td>seq-4</td>\n",
       "      <td>seq-4</td>\n",
       "      <td>VCNDLALCSQHTD-TYNPWTDRALLPDSPVHDMIDYVCNT</td>\n",
       "    </tr>\n",
       "    <tr>\n",
       "      <th>aoylt2Iqrc</th>\n",
       "      <td>seq-5 019R_FRG3G/249-283</td>\n",
       "      <td>seq-5</td>\n",
       "      <td>seq-5</td>\n",
       "      <td>VCERFAA----DP-TRNPVTGSPLSRNDPLYTDLMEICKG</td>\n",
       "    </tr>\n",
       "    <tr>\n",
       "      <th>m3TpvRyP4C</th>\n",
       "      <td>seq-6 019R_FRG3G/302-336</td>\n",
       "      <td>seq-6</td>\n",
       "      <td>seq-6</td>\n",
       "      <td>TCEAFCR----DP-TRNPVTGQKMRRNGIEYQMFAEECDC</td>\n",
       "    </tr>\n",
       "    <tr>\n",
       "      <th>870udBVwIr</th>\n",
       "      <td>seq-7 VF380_IIV6/7-45</td>\n",
       "      <td>seq-7</td>\n",
       "      <td>seq-7</td>\n",
       "      <td>KCDEWEKIRLNSS-PKNPFTKRNVKKDGPTYKKIDLICKH</td>\n",
       "    </tr>\n",
       "    <tr>\n",
       "      <th>ONJYTsRDw9</th>\n",
       "      <td>seq-8 VF380_IIV3/8-47</td>\n",
       "      <td>seq-8</td>\n",
       "      <td>seq-8</td>\n",
       "      <td>KCYEWDIAKKKSPLPKSPLTGRKLKQHGPTWKKITAECAT</td>\n",
       "    </tr>\n",
       "    <tr>\n",
       "      <th>6Y8wVwbXNh</th>\n",
       "      <td>seq-9 VF378_IIV6/4-38</td>\n",
       "      <td>seq-9</td>\n",
       "      <td>seq-9</td>\n",
       "      <td>KCSKWHE----QP-LINPLTNRKIKKNGPTYKELERECGP</td>\n",
       "    </tr>\n",
       "    <tr>\n",
       "      <th>R8VorsuU4E</th>\n",
       "      <td>seq-10 O41158_PBCV1/63-96</td>\n",
       "      <td>seq-10</td>\n",
       "      <td>seq-10</td>\n",
       "      <td>LCSKWKA----NP-LVNPATGRKIKKDGPVYEKIQKKCS-</td>\n",
       "    </tr>\n",
       "    <tr>\n",
       "      <th>iO8682XJwF</th>\n",
       "      <td>seq-11 019R_FRG3G/5-39</td>\n",
       "      <td>seq-11</td>\n",
       "      <td>seq-11</td>\n",
       "      <td>YCDEFER----NP-TRNPRTGRTIKRGGPVFRALERECSD</td>\n",
       "    </tr>\n",
       "    <tr>\n",
       "      <th>TpkbrY9bqa</th>\n",
       "      <td>seq-12 019R_FRG3G/139-172</td>\n",
       "      <td>seq-12</td>\n",
       "      <td>seq-12</td>\n",
       "      <td>-CPEFAR----DP-TRNPRTGRTIKRGGPTYRALEAECAD</td>\n",
       "    </tr>\n",
       "    <tr>\n",
       "      <th>QO6qSUsN7T</th>\n",
       "      <td>seq-13 VF232_IIV6/64-98</td>\n",
       "      <td>seq-13</td>\n",
       "      <td>seq-13</td>\n",
       "      <td>ECEQWLA----NK-GINPRTGKAIKIGGPTYKKLEMECKE</td>\n",
       "    </tr>\n",
       "    <tr>\n",
       "      <th>GpLRf1WHOj</th>\n",
       "      <td>seq-14 Q0E553_SFAVA/60-94</td>\n",
       "      <td>seq-14</td>\n",
       "      <td>seq-14</td>\n",
       "      <td>VCKKFLA----NK-TVSPYSGRPIKPGKKLYNDLEKHCSG</td>\n",
       "    </tr>\n",
       "    <tr>\n",
       "      <th>QeKmcLq4X8</th>\n",
       "      <td>seq-15 Q8QUQ5_ISKNN/164-198</td>\n",
       "      <td>seq-15</td>\n",
       "      <td>seq-15</td>\n",
       "      <td>QCRAFEE----NP-DVNPNTGRRISPTGPIASSMRRRCMN</td>\n",
       "    </tr>\n",
       "    <tr>\n",
       "      <th>Ol9DSHKrnf</th>\n",
       "      <td>seq-16 Q8QUQ5_ISKNN/7-42</td>\n",
       "      <td>seq-16</td>\n",
       "      <td>seq-16</td>\n",
       "      <td>KCNQLRN----NRYTVNPVSNRAIAPRGDTANTLRRICEQ</td>\n",
       "    </tr>\n",
       "    <tr>\n",
       "      <th>b49tYVZH4e</th>\n",
       "      <td>seq-17 Q0E553_SFAVA/14-48</td>\n",
       "      <td>seq-17</td>\n",
       "      <td>seq-17</td>\n",
       "      <td>QCETFKR----NKQAVSPLTNCPIDKFGRTAARFRKECD-</td>\n",
       "    </tr>\n",
       "  </tbody>\n",
       "</table>\n",
       "</div>"
      ],
      "text/plain": [
       "                            description      id   label  \\\n",
       "3WFZUpDPaM   seq-0 Q0E553_SFAVA/184-218   seq-0   seq-0   \n",
       "GvjE6xhJYL   seq-1 Q8QUQ5_ISKNN/123-157   seq-1   seq-1   \n",
       "GLxde4wm1g   seq-2 Q0E553_SFAVA/142-176   seq-2   seq-2   \n",
       "AOJeKQ9pqv     seq-3 Q8QUQ5_ISKNN/45-79   seq-3   seq-3   \n",
       "oXwsjIh0Me     seq-4 Q8QUQ6_ISKNN/37-75   seq-4   seq-4   \n",
       "aoylt2Iqrc     seq-5 019R_FRG3G/249-283   seq-5   seq-5   \n",
       "m3TpvRyP4C     seq-6 019R_FRG3G/302-336   seq-6   seq-6   \n",
       "870udBVwIr        seq-7 VF380_IIV6/7-45   seq-7   seq-7   \n",
       "ONJYTsRDw9        seq-8 VF380_IIV3/8-47   seq-8   seq-8   \n",
       "6Y8wVwbXNh        seq-9 VF378_IIV6/4-38   seq-9   seq-9   \n",
       "R8VorsuU4E    seq-10 O41158_PBCV1/63-96  seq-10  seq-10   \n",
       "iO8682XJwF       seq-11 019R_FRG3G/5-39  seq-11  seq-11   \n",
       "TpkbrY9bqa    seq-12 019R_FRG3G/139-172  seq-12  seq-12   \n",
       "QO6qSUsN7T      seq-13 VF232_IIV6/64-98  seq-13  seq-13   \n",
       "GpLRf1WHOj    seq-14 Q0E553_SFAVA/60-94  seq-14  seq-14   \n",
       "QeKmcLq4X8  seq-15 Q8QUQ5_ISKNN/164-198  seq-15  seq-15   \n",
       "Ol9DSHKrnf     seq-16 Q8QUQ5_ISKNN/7-42  seq-16  seq-16   \n",
       "b49tYVZH4e    seq-17 Q0E553_SFAVA/14-48  seq-17  seq-17   \n",
       "\n",
       "                                            sequence  \n",
       "3WFZUpDPaM  KCIAFDK----ND-KINPFTGRPINENNDTYRMIYSMCHG  \n",
       "GvjE6xhJYL  ACALYYD----DP-TVNPFTDEPLRRYSPIDDLLYRNCES  \n",
       "GLxde4wm1g  YCTNFHR----DE-SRNPLTGKKLVPTSPIRKAWHKMCSG  \n",
       "AOJeKQ9pqv  LCAEYKR----SP-RYNPWTDRTLAPGSPKHNLISGMCGG  \n",
       "oXwsjIh0Me  VCNDLALCSQHTD-TYNPWTDRALLPDSPVHDMIDYVCNT  \n",
       "aoylt2Iqrc  VCERFAA----DP-TRNPVTGSPLSRNDPLYTDLMEICKG  \n",
       "m3TpvRyP4C  TCEAFCR----DP-TRNPVTGQKMRRNGIEYQMFAEECDC  \n",
       "870udBVwIr  KCDEWEKIRLNSS-PKNPFTKRNVKKDGPTYKKIDLICKH  \n",
       "ONJYTsRDw9  KCYEWDIAKKKSPLPKSPLTGRKLKQHGPTWKKITAECAT  \n",
       "6Y8wVwbXNh  KCSKWHE----QP-LINPLTNRKIKKNGPTYKELERECGP  \n",
       "R8VorsuU4E  LCSKWKA----NP-LVNPATGRKIKKDGPVYEKIQKKCS-  \n",
       "iO8682XJwF  YCDEFER----NP-TRNPRTGRTIKRGGPVFRALERECSD  \n",
       "TpkbrY9bqa  -CPEFAR----DP-TRNPRTGRTIKRGGPTYRALEAECAD  \n",
       "QO6qSUsN7T  ECEQWLA----NK-GINPRTGKAIKIGGPTYKKLEMECKE  \n",
       "GpLRf1WHOj  VCKKFLA----NK-TVSPYSGRPIKPGKKLYNDLEKHCSG  \n",
       "QeKmcLq4X8  QCRAFEE----NP-DVNPNTGRRISPTGPIASSMRRRCMN  \n",
       "Ol9DSHKrnf  KCNQLRN----NRYTVNPVSNRAIAPRGDTANTLRRICEQ  \n",
       "b49tYVZH4e  QCETFKR----NKQAVSPLTNCPIDKFGRTAARFRKECD-  "
      ]
     },
     "execution_count": 2,
     "metadata": {},
     "output_type": "execute_result"
    }
   ],
   "source": [
    "import phylopandas as pd\n",
    "\n",
    "# Read fasta file as DataFrame\n",
    "df = pd.read_fasta('PF08793_seed.fasta')\n",
    "\n",
    "# Write to other formats\n",
    "df.phylo.to_phylip('PF08793_seed.phylip')\n",
    "df.phylo.to_clustal('PF08793_seed.clustal')\n",
    "\n",
    "# Show DataFrame in notebook\n",
    "df"
   ]
  },
  {
   "cell_type": "markdown",
   "metadata": {},
   "source": [
    "## Read in tree data"
   ]
  },
  {
   "cell_type": "code",
   "execution_count": null,
   "metadata": {},
   "outputs": [],
   "source": []
  }
 ],
 "metadata": {
  "kernelspec": {
   "display_name": "omnipotent (Python 3.6)",
   "language": "python",
   "name": "omnipotent"
  },
  "language_info": {
   "codemirror_mode": {
    "name": "ipython",
    "version": 3
   },
   "file_extension": ".py",
   "mimetype": "text/x-python",
   "name": "python",
   "nbconvert_exporter": "python",
   "pygments_lexer": "ipython3",
   "version": "3.6.5"
  }
 },
 "nbformat": 4,
 "nbformat_minor": 2
}
